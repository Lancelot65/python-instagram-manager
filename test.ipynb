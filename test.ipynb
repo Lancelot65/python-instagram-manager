{
 "cells": [
  {
   "cell_type": "code",
   "execution_count": 20,
   "id": "c9b614ed",
   "metadata": {},
   "outputs": [
    {
     "name": "stdout",
     "output_type": "stream",
     "text": [
      "Moviepy - Building video dvd_bounce_tiktok.mp4.\n",
      "Moviepy - Writing video dvd_bounce_tiktok.mp4\n",
      "\n"
     ]
    },
    {
     "name": "stderr",
     "output_type": "stream",
     "text": [
      "                                                              \r"
     ]
    },
    {
     "name": "stdout",
     "output_type": "stream",
     "text": [
      "Moviepy - Done !\n",
      "Moviepy - video ready dvd_bounce_tiktok.mp4\n"
     ]
    }
   ],
   "source": [
    "from moviepy.editor import VideoClip\n",
    "from PIL import Image, ImageDraw, ImageFont\n",
    "import numpy as np\n",
    "\n",
    "# --- Config ---\n",
    "width, height = 1080, 1920\n",
    "duration = 25\n",
    "fps = 30\n",
    "text = \"What's the final straw of relation?\"\n",
    "\n",
    "# --- Police ---\n",
    "try:\n",
    "    font = ImageFont.truetype(\"arialbd.ttf\", 80)  # Arial Bold\n",
    "except:\n",
    "    font = ImageFont.load_default()\n",
    "\n",
    "# --- Taille du texte ---\n",
    "img_temp = Image.new(\"RGB\", (1, 1))\n",
    "draw_temp = ImageDraw.Draw(img_temp)\n",
    "text_size = draw_temp.textbbox((0, 0), text, font=font)\n",
    "text_width = text_size[2] - text_size[0]\n",
    "text_height = text_size[3] - text_size[1]\n",
    "\n",
    "# --- Position et vitesse initiales ---\n",
    "x, y = (width - text_width) / 2, (height - text_height) / 2\n",
    "vx, vy = 300, 200  # pixels/sec\n",
    "\n",
    "# --- Frame generator ---\n",
    "def make_frame(t):\n",
    "    global x, y, vx, vy\n",
    "\n",
    "    # Mise à jour de la position\n",
    "    x += vx / fps\n",
    "    y += vy / fps\n",
    "\n",
    "    # Rebonds horizontaux\n",
    "    if x <= 0 or x + text_width >= width:\n",
    "        vx = -vx\n",
    "        x = max(0, min(width - text_width, x))\n",
    "\n",
    "    # Rebonds verticaux\n",
    "    if y <= 0 or y + text_height >= height:\n",
    "        vy = -vy\n",
    "        y = max(0, min(height - text_height, y))\n",
    "\n",
    "    # Créer l’image\n",
    "    img = Image.new(\"RGB\", (width, height), color=\"black\")\n",
    "    draw = ImageDraw.Draw(img)\n",
    "    draw.text((x, y), text, font=font, fill=\"white\")\n",
    "\n",
    "    return np.array(img)\n",
    "\n",
    "# --- Création de la vidéo ---\n",
    "video = VideoClip(make_frame, duration=duration)\n",
    "video.write_videofile(\"dvd_bounce_tiktok.mp4\", fps=fps, codec=\"libx264\")\n"
   ]
  }
 ],
 "metadata": {
  "kernelspec": {
   "display_name": ".venv",
   "language": "python",
   "name": "python3"
  },
  "language_info": {
   "codemirror_mode": {
    "name": "ipython",
    "version": 3
   },
   "file_extension": ".py",
   "mimetype": "text/x-python",
   "name": "python",
   "nbconvert_exporter": "python",
   "pygments_lexer": "ipython3",
   "version": "3.13.3"
  }
 },
 "nbformat": 4,
 "nbformat_minor": 5
}
